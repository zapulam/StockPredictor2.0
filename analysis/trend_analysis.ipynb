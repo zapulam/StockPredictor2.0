{
 "cells": [
  {
   "cell_type": "markdown",
   "metadata": {},
   "source": [
    "## Report trend analysis for past *n* days"
   ]
  },
  {
   "cell_type": "markdown",
   "metadata": {},
   "source": [
    "Import necessary packages"
   ]
  },
  {
   "cell_type": "code",
   "execution_count": null,
   "metadata": {},
   "outputs": [],
   "source": [
    "import os\n",
    "import numpy as np\n",
    "import pandas as pd\n",
    "from scipy import stats\n",
    "import statsmodels.api as sm"
   ]
  },
  {
   "cell_type": "markdown",
   "metadata": {},
   "source": [
    "Analyze trends"
   ]
  },
  {
   "cell_type": "code",
   "execution_count": null,
   "metadata": {},
   "outputs": [],
   "source": [
    "# Read files from folder\n",
    "folder = '../daily_prices'\n",
    "files = os.listdir(folder)\n",
    "\n",
    "# Create dataframe\n",
    "seasonal_uplifts = dict()\n",
    "\n",
    "for i, file in enumerate(files):\n",
    "    # Read file\n",
    "    df = pd.read_csv(os.path.join(folder, file))\n",
    "\n",
    "    if not df.isna().any().any() and len(df.index) >= 504:\n",
    "        # Decompose\n",
    "        result = sm.tsa.seasonal_decompose(df['Close'], model='additive', period=252, extrapolate_trend=25, two_sided=False)\n",
    "        trend = result.trend[-20:].reset_index(drop=True)\n",
    "\n",
    "        # normalize input data\n",
    "        mins, maxs = trend.min(), trend.max()\n",
    "        trend = (trend-mins)/(maxs-mins)\n",
    "\n",
    "        # Get seasonality for next month (20 trading days)\n",
    "        if past:\n",
    "            seasonality = seasonal[-252:][-20:].reset_index(drop=True)\n",
    "        else:\n",
    "            seasonality = seasonal[-252:][:20].reset_index(drop=True)\n",
    "\n",
    "        # Add to dataframe\n",
    "        seasonal_uplifts[file[:-4]] = seasonality.to_list()\n",
    "\n",
    "seasonal_uplifts = pd.DataFrame(seasonal_uplifts)"
   ]
  }
 ],
 "metadata": {
  "kernelspec": {
   "display_name": "ds",
   "language": "python",
   "name": "python3"
  },
  "language_info": {
   "name": "python",
   "version": "3.10.12"
  }
 },
 "nbformat": 4,
 "nbformat_minor": 2
}
