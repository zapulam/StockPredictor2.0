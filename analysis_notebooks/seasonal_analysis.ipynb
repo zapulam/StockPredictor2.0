{
 "cells": [
  {
   "cell_type": "markdown",
   "metadata": {},
   "source": [
    "## Report historical seasonality for the past or upcoming month"
   ]
  },
  {
   "cell_type": "markdown",
   "metadata": {},
   "source": [
    "Uplift results are defined as the factor of uplift, positive or negative, determined by the Stats Models seasonal_decompose function... if analysis results show a value of 1.0 and max seasonality determined by the function is +$5, then the uplift is $5. "
   ]
  },
  {
   "cell_type": "code",
   "execution_count": 7,
   "metadata": {},
   "outputs": [],
   "source": [
    "past = True             # If true looks at past 20 trading days, if false looks at next 20 trading days\n",
    "insights = ['AMZN']     # Stocks to check insights "
   ]
  },
  {
   "cell_type": "markdown",
   "metadata": {},
   "source": [
    "Import necessary packages"
   ]
  },
  {
   "cell_type": "code",
   "execution_count": 11,
   "metadata": {},
   "outputs": [],
   "source": [
    "import os\n",
    "import numpy as np\n",
    "import pandas as pd\n",
    "from scipy import stats\n",
    "import statsmodels.api as sm"
   ]
  },
  {
   "cell_type": "markdown",
   "metadata": {},
   "source": [
    "Calculate 20 day seasoanlity"
   ]
  },
  {
   "cell_type": "code",
   "execution_count": 12,
   "metadata": {},
   "outputs": [],
   "source": [
    "# Read files from folder\n",
    "folder = '../daily_prices'\n",
    "files = os.listdir(folder)\n",
    "\n",
    "# Create dataframe\n",
    "seasonal_uplifts = dict()\n",
    "\n",
    "for i, file in enumerate(files):\n",
    "    # Read file\n",
    "    df = pd.read_csv(os.path.join(folder, file))\n",
    "\n",
    "    if not df.isna().any().any() and len(df.index) >= 504:\n",
    "        # Decompose\n",
    "        result = sm.tsa.seasonal_decompose(df['Close'], model='additive', period=252, extrapolate_trend=25, two_sided=False)\n",
    "        seasonal = result.seasonal\n",
    "\n",
    "        # Impute outliers with mean\n",
    "        z_scores = np.abs(stats.zscore(seasonal))\n",
    "        outliers = z_scores > 3\n",
    "        seasonal[outliers] = seasonal.mean()\n",
    "\n",
    "        # normalize seasonality data\n",
    "        mins, maxs = seasonal.min(), seasonal.max()\n",
    "        seasonal = 2*(seasonal-mins)/(maxs-mins)-1\n",
    "\n",
    "        # Get seasonality for next month (20 trading days)\n",
    "        if past:\n",
    "            seasonality = seasonal[-252:][-20:].reset_index(drop=True)\n",
    "        else:\n",
    "            seasonality = seasonal[-252:][:20].reset_index(drop=True)\n",
    "\n",
    "        # Add to dataframe\n",
    "        seasonal_uplifts[file[:-4]] = seasonality.to_list()\n",
    "\n",
    "seasonal_uplifts = pd.DataFrame(seasonal_uplifts)"
   ]
  },
  {
   "cell_type": "markdown",
   "metadata": {},
   "source": [
    "Report mean seasonality"
   ]
  },
  {
   "cell_type": "code",
   "execution_count": 13,
   "metadata": {},
   "outputs": [
    {
     "name": "stdout",
     "output_type": "stream",
     "text": [
      "AMZN previous 20 day seasonal uplift: 0.161\n"
     ]
    },
    {
     "data": {
      "text/html": [
       "<div>\n",
       "<style scoped>\n",
       "    .dataframe tbody tr th:only-of-type {\n",
       "        vertical-align: middle;\n",
       "    }\n",
       "\n",
       "    .dataframe tbody tr th {\n",
       "        vertical-align: top;\n",
       "    }\n",
       "\n",
       "    .dataframe thead th {\n",
       "        text-align: right;\n",
       "    }\n",
       "</style>\n",
       "<table border=\"1\" class=\"dataframe\">\n",
       "  <thead>\n",
       "    <tr style=\"text-align: right;\">\n",
       "      <th></th>\n",
       "      <th>Stock</th>\n",
       "      <th>20_Day_Seasonality</th>\n",
       "    </tr>\n",
       "  </thead>\n",
       "  <tbody>\n",
       "    <tr>\n",
       "      <th>0</th>\n",
       "      <td>MOH</td>\n",
       "      <td>0.787226</td>\n",
       "    </tr>\n",
       "    <tr>\n",
       "      <th>1</th>\n",
       "      <td>CBOE</td>\n",
       "      <td>0.768031</td>\n",
       "    </tr>\n",
       "    <tr>\n",
       "      <th>2</th>\n",
       "      <td>NRG</td>\n",
       "      <td>0.762124</td>\n",
       "    </tr>\n",
       "    <tr>\n",
       "      <th>3</th>\n",
       "      <td>MPC</td>\n",
       "      <td>0.741053</td>\n",
       "    </tr>\n",
       "    <tr>\n",
       "      <th>4</th>\n",
       "      <td>ROL</td>\n",
       "      <td>0.725566</td>\n",
       "    </tr>\n",
       "    <tr>\n",
       "      <th>5</th>\n",
       "      <td>CRM</td>\n",
       "      <td>0.688604</td>\n",
       "    </tr>\n",
       "    <tr>\n",
       "      <th>6</th>\n",
       "      <td>CTAS</td>\n",
       "      <td>0.657960</td>\n",
       "    </tr>\n",
       "    <tr>\n",
       "      <th>7</th>\n",
       "      <td>NFLX</td>\n",
       "      <td>0.656508</td>\n",
       "    </tr>\n",
       "    <tr>\n",
       "      <th>8</th>\n",
       "      <td>AJG</td>\n",
       "      <td>0.649945</td>\n",
       "    </tr>\n",
       "    <tr>\n",
       "      <th>9</th>\n",
       "      <td>ELV</td>\n",
       "      <td>0.638118</td>\n",
       "    </tr>\n",
       "  </tbody>\n",
       "</table>\n",
       "</div>"
      ],
      "text/plain": [
       "  Stock  20_Day_Seasonality\n",
       "0   MOH            0.787226\n",
       "1  CBOE            0.768031\n",
       "2   NRG            0.762124\n",
       "3   MPC            0.741053\n",
       "4   ROL            0.725566\n",
       "5   CRM            0.688604\n",
       "6  CTAS            0.657960\n",
       "7  NFLX            0.656508\n",
       "8   AJG            0.649945\n",
       "9   ELV            0.638118"
      ]
     },
     "execution_count": 13,
     "metadata": {},
     "output_type": "execute_result"
    }
   ],
   "source": [
    "# Calculate mean of each column\n",
    "mean_values = seasonal_uplifts.mean()\n",
    "\n",
    "# Create a new DataFrame with mean values and column names\n",
    "avg_seasonal_uplifts = pd.DataFrame({\n",
    "    'Stock': mean_values.index,\n",
    "    '20_Day_Seasonality': mean_values.values\n",
    "}).sort_values(by=['20_Day_Seasonality'], ascending=False).reset_index(drop=True)\n",
    "\n",
    "for stock in insights:\n",
    "    avg = round(avg_seasonal_uplifts[avg_seasonal_uplifts['Stock'] == stock]['20_Day_Seasonality'].values[0], 3)\n",
    "    if past:\n",
    "        print(f'{stock} previous 20 day seasonal uplift: {avg}')\n",
    "    else:\n",
    "        print(f'{stock} upcoming 20 day seasonal uplift: {avg}')\n",
    "\n",
    "avg_seasonal_uplifts.head(10)"
   ]
  }
 ],
 "metadata": {
  "kernelspec": {
   "display_name": "ds",
   "language": "python",
   "name": "python3"
  },
  "language_info": {
   "codemirror_mode": {
    "name": "ipython",
    "version": 3
   },
   "file_extension": ".py",
   "mimetype": "text/x-python",
   "name": "python",
   "nbconvert_exporter": "python",
   "pygments_lexer": "ipython3",
   "version": "3.10.12"
  }
 },
 "nbformat": 4,
 "nbformat_minor": 2
}
